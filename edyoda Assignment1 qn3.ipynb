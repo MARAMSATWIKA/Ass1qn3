{
 "cells": [
  {
   "cell_type": "code",
   "execution_count": 10,
   "id": "1ff3bff9",
   "metadata": {},
   "outputs": [
    {
     "name": "stdout",
     "output_type": "stream",
     "text": [
      "enter the length of the list which you are going to enter: 9\n",
      "enter the number what you want to store at this index 1\n",
      "enter the number what you want to store at this index 2\n",
      "enter the number what you want to store at this index 3\n",
      "enter the number what you want to store at this index 4\n",
      "enter the number what you want to store at this index 5\n",
      "enter the number what you want to store at this index 6\n",
      "enter the number what you want to store at this index 7\n",
      "enter the number what you want to store at this index 8\n",
      "enter the number what you want to store at this index 9\n",
      "input list from the user:  [1, 2, 3, 4, 5, 6, 7, 8, 9]\n",
      "number of even numbers present in the list 4\n",
      "number of odd numbers present in the list 5\n"
     ]
    }
   ],
   "source": [
    "length =int(input(\"enter the length of the list which you are going to enter: \"))\n",
    "list=[]\n",
    "for a in range(0,length):\n",
    "    enter =int(input(\"enter the number what you want to store at this index \"))\n",
    "    list.append(enter)\n",
    "print(\"input list from the user: \",list)\n",
    "ecount=0\n",
    "ocount=0\n",
    "for i in range(0,len(list)):\n",
    "    if list[i]%2==0:\n",
    "        ecount=ecount+1\n",
    "    else:\n",
    "        ocount=ocount+1\n",
    "print(\"number of even numbers present in the list\",ecount)\n",
    "print(\"number of odd numbers present in the list\",ocount)        "
   ]
  },
  {
   "cell_type": "code",
   "execution_count": null,
   "id": "f31408d7",
   "metadata": {},
   "outputs": [],
   "source": []
  }
 ],
 "metadata": {
  "kernelspec": {
   "display_name": "Python 3 (ipykernel)",
   "language": "python",
   "name": "python3"
  },
  "language_info": {
   "codemirror_mode": {
    "name": "ipython",
    "version": 3
   },
   "file_extension": ".py",
   "mimetype": "text/x-python",
   "name": "python",
   "nbconvert_exporter": "python",
   "pygments_lexer": "ipython3",
   "version": "3.9.7"
  }
 },
 "nbformat": 4,
 "nbformat_minor": 5
}
